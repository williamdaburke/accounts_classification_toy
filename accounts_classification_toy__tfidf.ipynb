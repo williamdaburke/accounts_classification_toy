{
  "nbformat": 4,
  "nbformat_minor": 0,
  "metadata": {
    "colab": {
      "name": "accounts classification toy_ tfidf.ipynb",
      "version": "0.3.2",
      "provenance": [],
      "collapsed_sections": [],
      "include_colab_link": true
    },
    "kernelspec": {
      "name": "python3",
      "display_name": "Python 3"
    }
  },
  "cells": [
    {
      "cell_type": "markdown",
      "metadata": {
        "id": "view-in-github",
        "colab_type": "text"
      },
      "source": [
        "<a href=\"https://colab.research.google.com/github/williamdaburke/accounts_classification_toy/blob/master/accounts_classification_toy__tfidf.ipynb\" target=\"_parent\"><img src=\"https://colab.research.google.com/assets/colab-badge.svg\" alt=\"Open In Colab\"/></a>"
      ]
    },
    {
      "cell_type": "code",
      "metadata": {
        "id": "azGAtWd5TdRC",
        "colab_type": "code",
        "outputId": "4a827edd-5a25-44f4-c02c-3e4104b8258c",
        "colab": {
          "base_uri": "https://localhost:8080/",
          "height": 54
        }
      },
      "source": [
        "import pandas as pd\n",
        "import numpy as np\n",
        "import matplotlib.pyplot as plt\n",
        "from datetime import datetime\n",
        "import json\n",
        "\n",
        "import re\n",
        "import warnings\n",
        "import math\n",
        "from scipy.stats import norm\n",
        "from scipy import stats\n",
        "import seaborn as sns\n",
        "from tqdm import tqdm\n",
        "from sklearn.feature_extraction.text import TfidfVectorizer\n",
        "\n",
        "from sklearn import naive_bayes, metrics, svm\n",
        "from sklearn.linear_model import LogisticRegression\n",
        "from sklearn.multiclass import OneVsRestClassifier\n",
        "from sklearn.ensemble import BaggingClassifier,RandomForestClassifier\n",
        "#from sklearn.model_selection import ShuffleSplit\n",
        "from sklearn.pipeline import Pipeline\n",
        "from sklearn.feature_extraction.text import CountVectorizer,TfidfTransformer\n",
        "from sklearn.svm import LinearSVC\n",
        "\n",
        "from sklearn.metrics import f1_score\n",
        "from sklearn.metrics import classification_report\n",
        "\n",
        "from sklearn.preprocessing import MultiLabelBinarizer\n",
        "mlb = MultiLabelBinarizer()\n",
        "\n",
        "import nltk, spacy\n",
        "nlp = spacy.load('en', disable=['parser', 'ner'])\n",
        "nltk.download('stopwords')\n",
        "from nltk.corpus import stopwords\n",
        "\n",
        "from sklearn.model_selection import train_test_split\n",
        "\n",
        "from IPython.core.interactiveshell import InteractiveShell\n",
        "InteractiveShell.ast_node_interactivity = \"all\""
      ],
      "execution_count": 0,
      "outputs": [
        {
          "output_type": "stream",
          "text": [
            "[nltk_data] Downloading package stopwords to /root/nltk_data...\n",
            "[nltk_data]   Unzipping corpora/stopwords.zip.\n"
          ],
          "name": "stdout"
        }
      ]
    },
    {
      "cell_type": "code",
      "metadata": {
        "colab_type": "code",
        "id": "SPQuvwvYY5YI",
        "outputId": "08ba1d68-af05-4653-813c-5ac9e589d6d3",
        "colab": {
          "base_uri": "https://localhost:8080/",
          "height": 695
        }
      },
      "source": [
        "data_df = pd.read_csv(\"https://www.dropbox.com/sh/iwic23m3rny73ot/AAAITq9NI0B_3wVIoYByln4ya/interviews/data-problem/sample.csv?dl=1\",names=['text','tags'])\n",
        "data_df.shape\n",
        "data_df.head(20)"
      ],
      "execution_count": 0,
      "outputs": [
        {
          "output_type": "execute_result",
          "data": {
            "text/plain": [
              "(700, 2)"
            ]
          },
          "metadata": {
            "tags": []
          },
          "execution_count": 93
        },
        {
          "output_type": "execute_result",
          "data": {
            "text/html": [
              "<div>\n",
              "<style scoped>\n",
              "    .dataframe tbody tr th:only-of-type {\n",
              "        vertical-align: middle;\n",
              "    }\n",
              "\n",
              "    .dataframe tbody tr th {\n",
              "        vertical-align: top;\n",
              "    }\n",
              "\n",
              "    .dataframe thead th {\n",
              "        text-align: right;\n",
              "    }\n",
              "</style>\n",
              "<table border=\"1\" class=\"dataframe\">\n",
              "  <thead>\n",
              "    <tr style=\"text-align: right;\">\n",
              "      <th></th>\n",
              "      <th>text</th>\n",
              "      <th>tags</th>\n",
              "    </tr>\n",
              "  </thead>\n",
              "  <tbody>\n",
              "    <tr>\n",
              "      <th>0</th>\n",
              "      <td>Depreciation of tangible fixed assets - owned ...</td>\n",
              "      <td>d_and_a</td>\n",
              "    </tr>\n",
              "    <tr>\n",
              "      <th>1</th>\n",
              "      <td>Cost of equity settled share based payments</td>\n",
              "      <td>adjustment</td>\n",
              "    </tr>\n",
              "    <tr>\n",
              "      <th>2</th>\n",
              "      <td>Amortisation of software</td>\n",
              "      <td>d_and_a</td>\n",
              "    </tr>\n",
              "    <tr>\n",
              "      <th>3</th>\n",
              "      <td>Auditor's remuneration: Audit</td>\n",
              "      <td>other</td>\n",
              "    </tr>\n",
              "    <tr>\n",
              "      <th>4</th>\n",
              "      <td>Operating lease payables - equipment</td>\n",
              "      <td>other</td>\n",
              "    </tr>\n",
              "    <tr>\n",
              "      <th>5</th>\n",
              "      <td>Fees payable to the company's auditors and its...</td>\n",
              "      <td>other</td>\n",
              "    </tr>\n",
              "    <tr>\n",
              "      <th>6</th>\n",
              "      <td>Auditor's remuneration audit services statutor...</td>\n",
              "      <td>other</td>\n",
              "    </tr>\n",
              "    <tr>\n",
              "      <th>7</th>\n",
              "      <td>Exceptional onerous contracts</td>\n",
              "      <td>adjustment</td>\n",
              "    </tr>\n",
              "    <tr>\n",
              "      <th>8</th>\n",
              "      <td>Profit/loss on disposal of fixed assets</td>\n",
              "      <td>adjustment</td>\n",
              "    </tr>\n",
              "    <tr>\n",
              "      <th>9</th>\n",
              "      <td>Audit services</td>\n",
              "      <td>other</td>\n",
              "    </tr>\n",
              "    <tr>\n",
              "      <th>10</th>\n",
              "      <td>Auditors' remuneration - other regulatory serv...</td>\n",
              "      <td>other</td>\n",
              "    </tr>\n",
              "    <tr>\n",
              "      <th>11</th>\n",
              "      <td>Other operating income - profit on disposal</td>\n",
              "      <td>adjustment</td>\n",
              "    </tr>\n",
              "    <tr>\n",
              "      <th>12</th>\n",
              "      <td>Depreciation written off assets on hire purcha...</td>\n",
              "      <td>d_and_a</td>\n",
              "    </tr>\n",
              "    <tr>\n",
              "      <th>13</th>\n",
              "      <td>Operating lease payments - plant, machinery an...</td>\n",
              "      <td>other</td>\n",
              "    </tr>\n",
              "    <tr>\n",
              "      <th>14</th>\n",
              "      <td>Amount receivable by the auditors and their as...</td>\n",
              "      <td>other</td>\n",
              "    </tr>\n",
              "    <tr>\n",
              "      <th>15</th>\n",
              "      <td>Marketing services and other services</td>\n",
              "      <td>other</td>\n",
              "    </tr>\n",
              "    <tr>\n",
              "      <th>16</th>\n",
              "      <td>Auditor's remuneration - non audit - group aud...</td>\n",
              "      <td>other</td>\n",
              "    </tr>\n",
              "    <tr>\n",
              "      <th>17</th>\n",
              "      <td>Operating leases - motor vehicles</td>\n",
              "      <td>other</td>\n",
              "    </tr>\n",
              "    <tr>\n",
              "      <th>18</th>\n",
              "      <td>Fee - audit of annual accounts</td>\n",
              "      <td>other</td>\n",
              "    </tr>\n",
              "    <tr>\n",
              "      <th>19</th>\n",
              "      <td>Services provided by the Company's auditors - ...</td>\n",
              "      <td>other</td>\n",
              "    </tr>\n",
              "  </tbody>\n",
              "</table>\n",
              "</div>"
            ],
            "text/plain": [
              "                                                 text        tags\n",
              "0   Depreciation of tangible fixed assets - owned ...     d_and_a\n",
              "1         Cost of equity settled share based payments  adjustment\n",
              "2                            Amortisation of software     d_and_a\n",
              "3                       Auditor's remuneration: Audit       other\n",
              "4                Operating lease payables - equipment       other\n",
              "5   Fees payable to the company's auditors and its...       other\n",
              "6   Auditor's remuneration audit services statutor...       other\n",
              "7                       Exceptional onerous contracts  adjustment\n",
              "8             Profit/loss on disposal of fixed assets  adjustment\n",
              "9                                      Audit services       other\n",
              "10  Auditors' remuneration - other regulatory serv...       other\n",
              "11        Other operating income - profit on disposal  adjustment\n",
              "12  Depreciation written off assets on hire purcha...     d_and_a\n",
              "13  Operating lease payments - plant, machinery an...       other\n",
              "14  Amount receivable by the auditors and their as...       other\n",
              "15              Marketing services and other services       other\n",
              "16  Auditor's remuneration - non audit - group aud...       other\n",
              "17                  Operating leases - motor vehicles       other\n",
              "18                     Fee - audit of annual accounts       other\n",
              "19  Services provided by the Company's auditors - ...       other"
            ]
          },
          "metadata": {
            "tags": []
          },
          "execution_count": 93
        }
      ]
    },
    {
      "cell_type": "code",
      "metadata": {
        "id": "XyPaT7X1WAkI",
        "colab_type": "code",
        "outputId": "9d75340a-60ec-46c3-a2b9-559b059c14e0",
        "colab": {
          "base_uri": "https://localhost:8080/",
          "height": 438
        }
      },
      "source": [
        "all_labels = nltk.FreqDist(data_df[\"tags\"].values)\n",
        "all_labels_df = pd.DataFrame({'Label': list(all_labels.keys()), 'Count': list(all_labels.values())})\n",
        "\n",
        "g = all_labels_df.nlargest(columns=\"Count\", n = 50) \n",
        "plt.figure(figsize=(7,1))\n",
        "ax = sns.barplot(data=g, x= \"Count\", y = \"Label\")\n",
        "#ax.set(ylabel = 'Label')\n",
        "\n",
        "plt.show()\n",
        "\n",
        "txt_lengths = data_df['text'].str.split().apply(lambda x: len(x))\n",
        "f = sns.distplot(txt_lengths, fit=norm);\n",
        "f.figure.set_size_inches(5,3)\n",
        "# Get the fitted parameters used by the function\n",
        "(mu, sigma) = norm.fit(txt_lengths)\n",
        "print( '\\n mu = {:.2f} and sigma = {:.2f}\\n'.format(mu, sigma))\n",
        "plt.legend(['Normal dist. ($\\mu=$ {:.2f} and $\\sigma=$ {:.2f} )'.format(mu, sigma)],\n",
        "            loc='best')\n",
        "plt.ylabel('Frequency')\n",
        "plt.title('wordcount distribution')"
      ],
      "execution_count": 0,
      "outputs": [
        {
          "output_type": "execute_result",
          "data": {
            "text/plain": [
              "<Figure size 504x72 with 0 Axes>"
            ]
          },
          "metadata": {
            "tags": []
          },
          "execution_count": 44
        },
        {
          "output_type": "display_data",
          "data": {
            "image/png": "[encoded data removed]",
            "text/plain": [
              "<Figure size 504x72 with 1 Axes>"
            ]
          },
          "metadata": {
            "tags": []
          }
        },
        {
          "output_type": "stream",
          "text": [
            "\n",
            " mu = 6.23 and sigma = 3.32\n",
            "\n"
          ],
          "name": "stdout"
        },
        {
          "output_type": "execute_result",
          "data": {
            "text/plain": [
              "<matplotlib.legend.Legend at 0x7ff329cfa1d0>"
            ]
          },
          "metadata": {
            "tags": []
          },
          "execution_count": 44
        },
        {
          "output_type": "execute_result",
          "data": {
            "text/plain": [
              "Text(0, 0.5, 'Frequency')"
            ]
          },
          "metadata": {
            "tags": []
          },
          "execution_count": 44
        },
        {
          "output_type": "execute_result",
          "data": {
            "text/plain": [
              "Text(0.5, 1.0, 'wordcount distribution')"
            ]
          },
          "metadata": {
            "tags": []
          },
          "execution_count": 44
        },
        {
          "output_type": "display_data",
          "data": {
            "image/png": "[encoded data removed]",
            "text/plain": [
              "<Figure size 360x216 with 1 Axes>"
            ]
          },
          "metadata": {
            "tags": []
          }
        }
      ]
    },
    {
      "cell_type": "code",
      "metadata": {
        "id": "_pThKzjlarWA",
        "colab_type": "code",
        "colab": {}
      },
      "source": [
        "additional_stops = ['com','www','http','https']\n",
        "stop_words = set(stopwords.words('english')+additional_stops)\n",
        "\n",
        "def clean_text(text):\n",
        "    text = re.sub(\"\\'\", \"\", text)\n",
        "    #text = re.sub('((www\\.[^\\s]+)|(https?://[^\\s]+))', ' ', text)\n",
        "    text = re.sub(\"[^a-z]\",\" \",text.lower())\n",
        "    #text = re.sub(r'(.)\\1+', r'\\1\\1', text)\n",
        "    text = ' '.join([w for w in text.split() if not w in stop_words])\n",
        "    #performs slightly better without lemmatization it seems\n",
        "    #text = ' '.join(lemmatize(text))\n",
        "    return text\n",
        "  \n",
        "data_df['clean_text'] = data_df['text'].apply(lambda x: clean_text(x))"
      ],
      "execution_count": 0,
      "outputs": []
    },
    {
      "cell_type": "code",
      "metadata": {
        "id": "aI9lasTSbKjW",
        "colab_type": "code",
        "outputId": "a99b3dbc-bcf0-4ae7-f275-4799ebb07cec",
        "colab": {
          "base_uri": "https://localhost:8080/",
          "height": 881
        }
      },
      "source": [
        "def freq_words(x, terms = 30):\n",
        "  all_words = ' '.join([text for text in x])\n",
        "  all_words = all_words.split()\n",
        "  \n",
        "  fdist = nltk.FreqDist(all_words)\n",
        "  words_df = pd.DataFrame({'word':list(fdist.keys()), 'count':list(fdist.values())})\n",
        "  \n",
        "  d = words_df.nlargest(columns=\"count\", n = terms) \n",
        "  plt.figure(figsize=(12,15))\n",
        "  ax = sns.barplot(data=d, x= \"count\", y = \"word\")\n",
        "  plt.show()\n",
        "  \n",
        "freq_words(data_df['clean_text'], 100)"
      ],
      "execution_count": 0,
      "outputs": [
        {
          "output_type": "display_data",
          "data": {
            "image/png": "[encoded data removed]",
            "text/plain": [
              "<Figure size 864x1080 with 1 Axes>"
            ]
          },
          "metadata": {
            "tags": []
          }
        }
      ]
    },
    {
      "cell_type": "code",
      "metadata": {
        "id": "CieVr63VblMp",
        "colab_type": "code",
        "outputId": "7df08628-7461-4abb-84a3-b0d01df9b056",
        "colab": {
          "base_uri": "https://localhost:8080/",
          "height": 36
        }
      },
      "source": [
        "from imblearn.over_sampling import RandomOverSampler\n",
        "sampler = RandomOverSampler()\n",
        "X_rs, y_rs = sampler.fit_sample(data_df[['clean_text']].values, data_df['tags'])\n",
        "\n",
        "#plot_this(X_rs,y_rs,'Random undersampling')\n",
        "\n",
        "np.squeeze(X_rs).shape, y_rs.shape\n",
        "\n",
        "\n",
        "xtrain, xval, ytrain, yval = train_test_split(np.squeeze(X_rs), y_rs, test_size=0.2, random_state=7)"
      ],
      "execution_count": 0,
      "outputs": [
        {
          "output_type": "execute_result",
          "data": {
            "text/plain": [
              "((1113,), (1113,))"
            ]
          },
          "metadata": {
            "tags": []
          },
          "execution_count": 114
        }
      ]
    },
    {
      "cell_type": "code",
      "metadata": {
        "id": "hTBx89LRb4Mx",
        "colab_type": "code",
        "colab": {}
      },
      "source": [
        "def make_classifier_pipeline(model):\n",
        "  return Pipeline([\n",
        "      ('vectorizer', CountVectorizer(lowercase=True, \n",
        "                                     stop_words='english', \n",
        "                                     max_df=0.8, \n",
        "                                     min_df=1)),\n",
        "      ('tfidf', TfidfTransformer()),\n",
        "      ('clf', OneVsRestClassifier(model))])"
      ],
      "execution_count": 0,
      "outputs": []
    },
    {
      "cell_type": "code",
      "metadata": {
        "id": "jC1XyT1Cb9aJ",
        "colab_type": "code",
        "colab": {}
      },
      "source": [
        "def get_best_tags(clf, X, lb, n_tags=3):\n",
        "    decfun = clf.decision_function(X)\n",
        "    best_tags = np.argsort(decfun)[:, :-(n_tags+1): -1]\n",
        "    return best_tags #lb.classes_[best_tags]\n",
        "\n",
        "padding_print = \" \\n ###########################################################\\n \"\n",
        "\n",
        "n_estimators = 10\n",
        "models_dict = {\n",
        "          \"bayes\":{\"model\":naive_bayes.MultinomialNB()}\n",
        "          ,\"rf\":{\"model\":RandomForestClassifier(n_estimators=200, max_depth=3)}\n",
        "          ,\"lr\":{\"model\":LogisticRegression()}\n",
        "          ,\n",
        "          \"linearsvc\":{\"model\":LinearSVC()}\n",
        "          #computation is usually too expensive for svc('linear'), but possible here on small dataset  #\n",
        "          ,\"svm\":{\"model\":BaggingClassifier(svm.SVC(kernel='linear', probability=True, class_weight='balanced'), max_samples=1.0 / n_estimators, n_estimators=n_estimators)}\n",
        "         }\n",
        "          \n",
        "results_df = pd.DataFrame(columns = ['model','f1'])\n",
        "\n",
        "def train_and_report():\n",
        "  results_df = pd.DataFrame(columns = ['model','f1'])\n",
        "  \n",
        "  with warnings.catch_warnings(record=True) as received_warnings:\n",
        "    warnings.simplefilter(\"always\")\n",
        "    for m in models_dict.keys():\n",
        "      models_dict[m]['clf'] = make_classifier_pipeline(models_dict[m]['model'])\n",
        "      models_dict[m]['clf'].fit(xtrain, ytrain)\n",
        "\n",
        "      if m == \"linearsvc\":\n",
        "        models_dict[m]['y_pred'] = models_dict[m]['clf'].predict(xval)\n",
        "        models_dict[m]['y_pred_decfun'] = get_best_tags(models_dict[m]['clf'],xval,mlb)\n",
        "      else:\n",
        "        models_dict[m]['y_pred'] = models_dict[m]['clf'].predict(xval)\n",
        "      \n",
        "      models_dict[m]['f1'] = f1_score(yval, models_dict[m]['y_pred'], average=\"micro\")\n",
        "      print(padding_print,m,' f1: ',models_dict[m]['f1'],padding_print)\n",
        "      results_df = results_df.append({\"model\":m,'f1':models_dict[m]['f1']}, ignore_index=True)\n",
        "  return results_df, received_warnings"
      ],
      "execution_count": 0,
      "outputs": []
    },
    {
      "cell_type": "code",
      "metadata": {
        "id": "XSYAmaN-cCNc",
        "colab_type": "code",
        "outputId": "46d82771-74a4-4b6c-daad-2ce364d05b7c",
        "colab": {
          "base_uri": "https://localhost:8080/",
          "height": 485
        }
      },
      "source": [
        "results_df, received_warnings = train_and_report()"
      ],
      "execution_count": 0,
      "outputs": [
        {
          "output_type": "stream",
          "text": [
            " \n",
            " ###########################################################\n",
            "  bayes  f1:  0.905829596412556  \n",
            " ###########################################################\n",
            " \n",
            " \n",
            " ###########################################################\n",
            "  rf  f1:  0.9192825112107623  \n",
            " ###########################################################\n",
            " \n",
            " \n",
            " ###########################################################\n",
            "  lr  f1:  0.9461883408071748  \n",
            " ###########################################################\n",
            " \n",
            " \n",
            " ###########################################################\n",
            "  linearsvc  f1:  0.9641255605381166  \n",
            " ###########################################################\n",
            " \n",
            " \n",
            " ###########################################################\n",
            "  svm  f1:  0.9461883408071748  \n",
            " ###########################################################\n",
            " \n"
          ],
          "name": "stdout"
        }
      ]
    },
    {
      "cell_type": "code",
      "metadata": {
        "id": "fUBwGVjUcEcy",
        "colab_type": "code",
        "outputId": "0837f650-9126-45da-bcde-ba5f64c85014",
        "colab": {
          "base_uri": "https://localhost:8080/",
          "height": 73
        }
      },
      "source": [
        "print(models_dict['linearsvc']['clf'].predict(['final amortisation of computer programs in warehouse']))\n",
        "print(models_dict['linearsvc']['clf'].predict(['fish in the oven']))\n",
        "print(models_dict['linearsvc']['clf'].predict(['cost of convertible loans']))"
      ],
      "execution_count": 0,
      "outputs": [
        {
          "output_type": "stream",
          "text": [
            "['d_and_a']\n",
            "['other']\n",
            "['adjustment']\n"
          ],
          "name": "stdout"
        }
      ]
    },
    {
      "cell_type": "code",
      "metadata": {
        "id": "xavdIGQnd-pT",
        "colab_type": "code",
        "outputId": "e9152ba3-9ec7-4f63-c6ca-f48632e081ad",
        "colab": {
          "base_uri": "https://localhost:8080/",
          "height": 237
        }
      },
      "source": [
        "report_df = pd.DataFrame(classification_report(yval, models_dict['linearsvc']['y_pred'], output_dict=True)).transpose()\n",
        "report_df"
      ],
      "execution_count": 0,
      "outputs": [
        {
          "output_type": "execute_result",
          "data": {
            "text/html": [
              "<div>\n",
              "<style scoped>\n",
              "    .dataframe tbody tr th:only-of-type {\n",
              "        vertical-align: middle;\n",
              "    }\n",
              "\n",
              "    .dataframe tbody tr th {\n",
              "        vertical-align: top;\n",
              "    }\n",
              "\n",
              "    .dataframe thead th {\n",
              "        text-align: right;\n",
              "    }\n",
              "</style>\n",
              "<table border=\"1\" class=\"dataframe\">\n",
              "  <thead>\n",
              "    <tr style=\"text-align: right;\">\n",
              "      <th></th>\n",
              "      <th>f1-score</th>\n",
              "      <th>precision</th>\n",
              "      <th>recall</th>\n",
              "      <th>support</th>\n",
              "    </tr>\n",
              "  </thead>\n",
              "  <tbody>\n",
              "    <tr>\n",
              "      <th>adjustment</th>\n",
              "      <td>0.948718</td>\n",
              "      <td>0.936709</td>\n",
              "      <td>0.961039</td>\n",
              "      <td>77.000000</td>\n",
              "    </tr>\n",
              "    <tr>\n",
              "      <th>d_and_a</th>\n",
              "      <td>1.000000</td>\n",
              "      <td>1.000000</td>\n",
              "      <td>1.000000</td>\n",
              "      <td>70.000000</td>\n",
              "    </tr>\n",
              "    <tr>\n",
              "      <th>other</th>\n",
              "      <td>0.946667</td>\n",
              "      <td>0.959459</td>\n",
              "      <td>0.934211</td>\n",
              "      <td>76.000000</td>\n",
              "    </tr>\n",
              "    <tr>\n",
              "      <th>accuracy</th>\n",
              "      <td>0.964126</td>\n",
              "      <td>0.964126</td>\n",
              "      <td>0.964126</td>\n",
              "      <td>0.964126</td>\n",
              "    </tr>\n",
              "    <tr>\n",
              "      <th>macro avg</th>\n",
              "      <td>0.965128</td>\n",
              "      <td>0.965389</td>\n",
              "      <td>0.965083</td>\n",
              "      <td>223.000000</td>\n",
              "    </tr>\n",
              "    <tr>\n",
              "      <th>weighted avg</th>\n",
              "      <td>0.964116</td>\n",
              "      <td>0.964330</td>\n",
              "      <td>0.964126</td>\n",
              "      <td>223.000000</td>\n",
              "    </tr>\n",
              "  </tbody>\n",
              "</table>\n",
              "</div>"
            ],
            "text/plain": [
              "              f1-score  precision    recall     support\n",
              "adjustment    0.948718   0.936709  0.961039   77.000000\n",
              "d_and_a       1.000000   1.000000  1.000000   70.000000\n",
              "other         0.946667   0.959459  0.934211   76.000000\n",
              "accuracy      0.964126   0.964126  0.964126    0.964126\n",
              "macro avg     0.965128   0.965389  0.965083  223.000000\n",
              "weighted avg  0.964116   0.964330  0.964126  223.000000"
            ]
          },
          "metadata": {
            "tags": []
          },
          "execution_count": 128
        }
      ]
    },
    {
      "cell_type": "code",
      "metadata": {
        "id": "Eh4gqn-Fi9Fe",
        "colab_type": "code",
        "colab": {}
      },
      "source": [
        ""
      ],
      "execution_count": 0,
      "outputs": []
    }
  ]
}